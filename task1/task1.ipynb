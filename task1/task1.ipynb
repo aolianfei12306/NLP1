{
 "cells": [
  {
   "cell_type": "code",
   "execution_count": null,
   "id": "eb9fae62",
   "metadata": {},
   "outputs": [],
   "source": [
    "import numpy as np\n",
    "import pandas as pd\n",
    "import re\n",
    "from sklearn.model_selection import train_test_split\n",
    "'''\n",
    "train_data = pd.read_csv('train.tsv', sep='\\t')\n",
    "\n",
    "train_phrases = train_data['Phrase']\n",
    "train_sentiments = train_data['Sentiment']\n",
    "\n",
    "dev_data = pd.read_csv('test.tsv', sep='\\t')\n",
    "\n",
    "dev_phrases = train_data['Phrase']\n",
    "dev_sentiments = train_data['Sentiment']\n",
    "\n",
    "'''\n",
    "\n",
    "\n",
    "train_data = pd.read_csv('new_train.tsv', sep='\\t', header=None, names=['Phrase','Sentiment'])\n",
    "train_data, val_data = train_test_split(\n",
    "    train_data, \n",
    "    test_size=0.2, \n",
    "    random_state=42,\n",
    "    stratify=train_data['Sentiment']\n",
    ")\n",
    "\n",
    "train_phrases = train_data['Phrase']\n",
    "train_sentiments = train_data['Sentiment']\n",
    "val_phrases = val_data['Phrase']\n",
    "val_sentiments = val_data['Sentiment']\n",
    "\n",
    "dev_data = pd.read_csv('new_test.tsv', sep='\\t', header=None, names=['Phrase','Sentiment'])\n",
    "\n",
    "dev_phrases = dev_data['Phrase']\n",
    "dev_sentiments = dev_data['Sentiment']"
   ]
  },
  {
   "cell_type": "code",
   "execution_count": 2,
   "id": "ff108df0",
   "metadata": {},
   "outputs": [],
   "source": [
    "def tokenize(phrase):\n",
    "    phrase = re.sub(r'[^\\w\\s]', '', phrase).lower()\n",
    "    return phrase.split()"
   ]
  },
  {
   "cell_type": "code",
   "execution_count": 3,
   "id": "9916f11f",
   "metadata": {},
   "outputs": [
    {
     "data": {
      "text/plain": [
       "'\\ndef build_bow_vectors(phrases, vocab=None):\\n    # 构建词汇表\\n    if vocab is None:\\n        all_words = set()\\n        for phrase in phrases:\\n            words = tokenize(phrase)\\n            all_words.update(words)\\n        vocab = list(all_words)\\n\\n    vocab_size = len(vocab)\\n    word_to_idx = {word: idx for idx, word in enumerate(vocab)}\\n\\n    # 创建向量\\n    vectors = []\\n    for phrase in phrases:\\n        words = tokenize(phrase)\\n        vector = np.zeros(vocab_size)\\n        for word in words:\\n            if word in word_to_idx:\\n                vector[word_to_idx[word]] += 1\\n        vectors.append(vector)\\n    return np.array(vectors), vocab\\n    '"
      ]
     },
     "execution_count": 3,
     "metadata": {},
     "output_type": "execute_result"
    }
   ],
   "source": [
    "'''\n",
    "def build_bow_vectors(phrases, vocab=None):\n",
    "    # 构建词汇表\n",
    "    if vocab is None:\n",
    "        all_words = set()\n",
    "        for phrase in phrases:\n",
    "            words = tokenize(phrase)\n",
    "            all_words.update(words)\n",
    "        vocab = list(all_words)\n",
    "    \n",
    "    vocab_size = len(vocab)\n",
    "    word_to_idx = {word: idx for idx, word in enumerate(vocab)}\n",
    "    \n",
    "    # 创建向量\n",
    "    vectors = []\n",
    "    for phrase in phrases:\n",
    "        words = tokenize(phrase)\n",
    "        vector = np.zeros(vocab_size)\n",
    "        for word in words:\n",
    "            if word in word_to_idx:\n",
    "                vector[word_to_idx[word]] += 1\n",
    "        vectors.append(vector)\n",
    "    return np.array(vectors), vocab\n",
    "    '''"
   ]
  },
  {
   "cell_type": "code",
   "execution_count": 4,
   "id": "3f93e5bb",
   "metadata": {},
   "outputs": [],
   "source": [
    "# Bag-of-Words向量化\n",
    "from scipy import sparse\n",
    "\n",
    "# Bag-of-Words向量化（稀疏矩阵）\n",
    "def build_bow_vectors(phrases, vocab=None):\n",
    "    if vocab is None:\n",
    "        all_words = set()\n",
    "        for phrase in phrases:\n",
    "            words = tokenize(phrase)\n",
    "            all_words.update(words)\n",
    "        vocab = list(all_words)\n",
    "    \n",
    "    vocab_size = len(vocab)\n",
    "    word_to_idx = {word: idx for idx, word in enumerate(vocab)}\n",
    "    \n",
    "    row = []\n",
    "    col = []\n",
    "    data = []\n",
    "    \n",
    "    for i, phrase in enumerate(phrases):\n",
    "        words = tokenize(phrase)\n",
    "        for word in words:\n",
    "            if word in word_to_idx:\n",
    "                row.append(i)\n",
    "                col.append(word_to_idx[word])\n",
    "                data.append(1)\n",
    "    \n",
    "    vectors = sparse.csr_matrix((data, (row, col)), shape=(len(phrases), vocab_size), dtype=np.float64)\n",
    "    return vectors, vocab"
   ]
  },
  {
   "cell_type": "code",
   "execution_count": 5,
   "id": "e17e2469",
   "metadata": {},
   "outputs": [
    {
     "data": {
      "text/plain": [
       "'\\n# N-gram向量化（以二元组为例）\\ndef build_ngram_vectors(phrases, vocab=None, n=3):\\n    # 构建N-gram词汇表\\n    if vocab is None:\\n        all_ngrams = set()\\n        for phrase in phrases:\\n            words = tokenize(phrase)\\n            if(len(words)<n):\\n                continue\\n            for i in range(len(words) - n + 1):\\n                ngram = tuple(words[i:i+n])\\n                all_ngrams.add(ngram)\\n        vocab = list(all_ngrams)\\n\\n    vocab_size = len(vocab)\\n    ngram_to_idx = {ngram: idx for idx, ngram in enumerate(vocab)}\\n\\n    # 创建向量\\n    vectors = []\\n    for phrase in phrases:\\n        words = tokenize(phrase)\\n        vector = np.zeros(vocab_size)\\n        for i in range(len(words) - n + 1):\\n            ngram = tuple(words[i:i+n])\\n            if ngram in ngram_to_idx:\\n                vector[ngram_to_idx[ngram]] += 1\\n        vectors.append(vector)\\n    return np.array(vectors), vocab\\n    '"
      ]
     },
     "execution_count": 5,
     "metadata": {},
     "output_type": "execute_result"
    }
   ],
   "source": [
    "'''\n",
    "# N-gram向量化（以二元组为例）\n",
    "def build_ngram_vectors(phrases, vocab=None, n=3):\n",
    "    # 构建N-gram词汇表\n",
    "    if vocab is None:\n",
    "        all_ngrams = set()\n",
    "        for phrase in phrases:\n",
    "            words = tokenize(phrase)\n",
    "            if(len(words)<n):\n",
    "                continue\n",
    "            for i in range(len(words) - n + 1):\n",
    "                ngram = tuple(words[i:i+n])\n",
    "                all_ngrams.add(ngram)\n",
    "        vocab = list(all_ngrams)\n",
    "    \n",
    "    vocab_size = len(vocab)\n",
    "    ngram_to_idx = {ngram: idx for idx, ngram in enumerate(vocab)}\n",
    "    \n",
    "    # 创建向量\n",
    "    vectors = []\n",
    "    for phrase in phrases:\n",
    "        words = tokenize(phrase)\n",
    "        vector = np.zeros(vocab_size)\n",
    "        for i in range(len(words) - n + 1):\n",
    "            ngram = tuple(words[i:i+n])\n",
    "            if ngram in ngram_to_idx:\n",
    "                vector[ngram_to_idx[ngram]] += 1\n",
    "        vectors.append(vector)\n",
    "    return np.array(vectors), vocab\n",
    "    '''"
   ]
  },
  {
   "cell_type": "code",
   "execution_count": 6,
   "id": "081c9174",
   "metadata": {},
   "outputs": [],
   "source": [
    "# N-gram向量化（稀疏矩阵）\n",
    "def build_ngram_vectors(phrases, vocab=None, max_n=2):\n",
    "    if vocab is None:\n",
    "        all_ngrams = set()\n",
    "        for phrase in phrases:\n",
    "            words = tokenize(phrase)\n",
    "            for n in range(1, max_n + 1):\n",
    "                for i in range(len(words) - n + 1):\n",
    "                    ngram = tuple(words[i:i+n])\n",
    "                    all_ngrams.add(ngram)\n",
    "        vocab = list(all_ngrams)\n",
    "    \n",
    "    vocab_size = len(vocab)\n",
    "    ngram_to_idx = {ngram: idx for idx, ngram in enumerate(vocab)}\n",
    "    \n",
    "    row = []\n",
    "    col = []\n",
    "    data = []\n",
    "    \n",
    "    for i, phrase in enumerate(phrases):\n",
    "        words = tokenize(phrase)\n",
    "        for n in range(1, max_n + 1):\n",
    "            for j in range(len(words) - n + 1):\n",
    "                ngram = tuple(words[j:j+n])\n",
    "                if ngram in ngram_to_idx:\n",
    "                    row.append(i)\n",
    "                    col.append(ngram_to_idx[ngram])\n",
    "                    data.append(1)\n",
    "    \n",
    "    vectors = sparse.csr_matrix((data, (row, col)), shape=(len(phrases), vocab_size), dtype=np.float64)\n",
    "    return vectors, vocab"
   ]
  },
  {
   "cell_type": "code",
   "execution_count": 7,
   "id": "22af9bcc",
   "metadata": {},
   "outputs": [],
   "source": [
    "# Softmax函数\n",
    "def softmax(z):\n",
    "    exp_z = np.exp(z - np.max(z, axis=1, keepdims=True))\n",
    "    return exp_z / exp_z.sum(axis=1, keepdims=True)\n",
    "\n",
    "\n",
    "from tqdm import tqdm\n",
    "import matplotlib.pyplot as plt\n",
    "\n",
    "# 修改训练函数以记录损失和准确率\n",
    "def train_softmax_regression(X, y, X_val, y_val, num_classes=5, learning_rate=0.01, epochs=100):\n",
    "    num_samples, num_features = X.shape\n",
    "    np.random.seed(42)\n",
    "    W = np.random.randn(num_features, num_classes) * 0.01\n",
    "    b = np.zeros(num_classes)\n",
    "    \n",
    "    losses = []\n",
    "    train_accuracies = []\n",
    "    val_accuracies = []\n",
    "    \n",
    "    for epoch in tqdm(range(epochs), desc=\"Training\"):\n",
    "        # 前向传播（训练集）\n",
    "        Z = X @ W + b\n",
    "        P = softmax(Z)\n",
    "        \n",
    "        # 计算训练损失\n",
    "        y_onehot = np.zeros((num_samples, num_classes))\n",
    "        y_onehot[np.arange(num_samples), y] = 1\n",
    "        loss = -np.mean(np.sum(y_onehot * np.log(P + 1e-9), axis=1))\n",
    "        \n",
    "        # 计算训练准确率\n",
    "        pred_train = np.argmax(P, axis=1)\n",
    "        train_accuracy = np.mean(pred_train == y)\n",
    "        \n",
    "        # 计算验证准确率\n",
    "        pred_val = predict(X_val, W, b)\n",
    "        val_accuracy = np.mean(pred_val == y_val)\n",
    "        \n",
    "        # 记录损失和准确率\n",
    "        losses.append(loss)\n",
    "        train_accuracies.append(train_accuracy)\n",
    "        val_accuracies.append(val_accuracy)\n",
    "        \n",
    "        # 反向传播\n",
    "        dZ = P - y_onehot\n",
    "        dW = X.T @ dZ / num_samples\n",
    "        db = np.sum(dZ, axis=0) / num_samples\n",
    "        \n",
    "        # 更新参数\n",
    "        W -= learning_rate * dW\n",
    "        b -= learning_rate * db\n",
    "    \n",
    "    return W, b, losses, train_accuracies, val_accuracies\n",
    "\n",
    "# 修改绘图函数以包含验证准确率\n",
    "def plot_training_metrics(losses, train_accuracies, val_accuracies, title=\"Training Metrics\"):\n",
    "    plt.figure(figsize=(10, 5))\n",
    "    plt.plot(losses, label='Loss', color='red')\n",
    "    plt.plot(train_accuracies, label='Training Accuracy', color='blue')\n",
    "    plt.plot(val_accuracies, label='Validation Accuracy', color='green')\n",
    "    plt.xlabel('Epoch')\n",
    "    plt.ylabel('Value')\n",
    "    plt.title(title)\n",
    "    plt.legend()\n",
    "    plt.grid(True)\n",
    "    plt.show()\n",
    "\n",
    "# 预测函数\n",
    "def predict(X, W, b):\n",
    "    Z = X @ W + b\n",
    "    P = softmax(Z)\n",
    "    return np.argmax(P, axis=1)"
   ]
  },
  {
   "cell_type": "code",
   "execution_count": 8,
   "id": "07bfadc1",
   "metadata": {},
   "outputs": [],
   "source": [
    "# # 修改Bag-of-Words训练和验证部分\n",
    "# train_bow, bow_vocab = build_bow_vectors(train_phrases)\n",
    "# dev_bow, _ = build_bow_vectors(dev_phrases, bow_vocab)\n",
    "\n",
    "# # 训练和验证BoW模型\n",
    "# W_bow, b_bow, bow_losses, bow_accuracies,bow_val_accuracies = train_softmax_regression(train_bow, train_sentiments, dev_bow, dev_sentiments, learning_rate=0.1 , epochs=10000)\n",
    "# pred_bow = predict(dev_bow, W_bow, b_bow)\n",
    "# accuracy_bow = np.mean(pred_bow == dev_sentiments)\n",
    "# print(f\"Bag-of-Words Accuracy: {accuracy_bow:.4f}\")\n",
    "\n",
    "# # 绘制BoW训练曲线\n",
    "# plot_training_metrics(bow_losses, bow_accuracies,bow_val_accuracies, title=\"Bag-of-Words Training Metrics\")\n"
   ]
  },
  {
   "cell_type": "code",
   "execution_count": 11,
   "id": "e26c7500",
   "metadata": {},
   "outputs": [
    {
     "name": "stderr",
     "output_type": "stream",
     "text": [
      "Training: 100%|██████████| 10000/10000 [03:08<00:00, 52.97it/s]\n"
     ]
    },
    {
     "name": "stdout",
     "output_type": "stream",
     "text": [
      "N-gram Validation Accuracy: 0.4971\n"
     ]
    },
    {
     "data": {
      "image/png": "[encoded data removed]",
      "text/plain": [
       "<Figure size 1000x500 with 1 Axes>"
      ]
     },
     "metadata": {},
     "output_type": "display_data"
    }
   ],
   "source": [
    "# 修改N-gram训练和验证部分\n",
    "train_ngram, ngram_vocab = build_ngram_vectors(train_phrases, max_n=4)\n",
    "dev_ngram, _ = build_ngram_vectors(dev_phrases, vocab=ngram_vocab, max_n=4)\n",
    "\n",
    "# 训练和验证N-gram模型（使用dev集作为验证集）\n",
    "W_ngram, b_ngram, ngram_losses, ngram_train_accuracies, ngram_val_accuracies = train_softmax_regression(\n",
    "    train_ngram, train_sentiments, dev_ngram, dev_sentiments, learning_rate=0.1, epochs=10000)\n",
    "pred_ngram = predict(dev_ngram, W_ngram, b_ngram)\n",
    "accuracy_ngram = np.mean(pred_ngram == dev_sentiments)\n",
    "print(f\"N-gram Validation Accuracy: {accuracy_ngram:.4f}\")\n",
    "\n",
    "# 绘制N-gram训练曲线\n",
    "plot_training_metrics(ngram_losses, ngram_train_accuracies, ngram_val_accuracies, title=\"N-gram Training and Validation Metrics\")"
   ]
  },
  {
   "cell_type": "markdown",
   "id": "1025a199",
   "metadata": {},
   "source": []
  }
 ],
 "metadata": {
  "kernelspec": {
   "display_name": "fastapi",
   "language": "python",
   "name": "python3"
  },
  "language_info": {
   "codemirror_mode": {
    "name": "ipython",
    "version": 3
   },
   "file_extension": ".py",
   "mimetype": "text/x-python",
   "name": "python",
   "nbconvert_exporter": "python",
   "pygments_lexer": "ipython3",
   "version": "3.12.9"
  }
 },
 "nbformat": 4,
 "nbformat_minor": 5
}
